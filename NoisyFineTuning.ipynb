{
 "cells": [
  {
   "cell_type": "markdown",
   "id": "53dfea18-359c-4e38-b08c-e38a8c49d0d4",
   "metadata": {},
   "source": [
    "# Noisy K-fold Fine Tuning\n",
    "### Author: Cathal Ó Faoláin\n",
    "### 15:51, 02/08/2024\n",
    "\n",
    "The goal of this work is to understand how we can use predicted IHC potentials, such as those predicted by WavIHC, introduced in the paper \"WaveNet-based approximation of a cochlear filtering and hair cell transduction model\".  Feature encoders designed to use these predicted IHC potentials are evaluated against other state-of-the-art feature encoders in order to understand how discriminating they are, and over a range of different Signal-to-Noise Ratios (SNRs).\n",
    "\n",
    "This notebook checks how stable the feature encoders are, and what kind of variation we should expect to see when we evaluate them. We have 9 feature encoders:\n",
    "\n",
    "- Contrastive Predictive Coding (CPC) \n",
    "- Wav2vec2.0\n",
    "- Autoregressive Predictive Coding (APC)\n",
    "- IHC CPC\n",
    "- IHC CPC 80\n",
    "- IHC Wav2vec2\n",
    "- IHC Wav2vec2 80\n",
    "- IHC Extract\n",
    "- IHC Extract 512 \n",
    "\n",
    "The first three feature encoders, CPC, Wav2vec2.0 and APC are based on the designs used in each of the papers. Any context encoders that tries to model longer-term dependencies have been removed - so no transformers or Recurrent Neural Networks (RNN). This is to allow for us to evaluate how discriminating the features themselves are. \n",
    "\n",
    "IHC CPC and Wav2vec2 are adapted feature encoders that take predicted IHC potentials as input rather than the signal alone. Each is inspired by their namesake models."
   ]
  },
  {
   "cell_type": "code",
   "execution_count": null,
   "id": "07da777f-026a-4058-a047-039cc4c34ebe",
   "metadata": {},
   "outputs": [],
   "source": []
  }
 ],
 "metadata": {
  "kernelspec": {
   "display_name": "Python 3 (ipykernel)",
   "language": "python",
   "name": "python3"
  },
  "language_info": {
   "codemirror_mode": {
    "name": "ipython",
    "version": 3
   },
   "file_extension": ".py",
   "mimetype": "text/x-python",
   "name": "python",
   "nbconvert_exporter": "python",
   "pygments_lexer": "ipython3",
   "version": "3.12.2"
  }
 },
 "nbformat": 4,
 "nbformat_minor": 5
}
